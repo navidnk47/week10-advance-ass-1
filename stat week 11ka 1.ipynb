{
 "cells": [
  {
   "cell_type": "code",
   "execution_count": null,
   "id": "55981013-c830-47f6-969a-178ae9e9a788",
   "metadata": {},
   "outputs": [],
   "source": [
    "Q1. What is the Probability density function?"
   ]
  },
  {
   "cell_type": "code",
   "execution_count": null,
   "id": "919b8ddc-d9d0-4a0e-b156-caea5e9c5ab7",
   "metadata": {},
   "outputs": [],
   "source": [
    "The probability density function (PDF) is a function that describes the probability of a random variable taking on a given value. \n",
    "It is a continuous function, meaning that it can take on any value between two points. The PDF is often used to represent the distribution\n",
    "of a random variable.\n",
    "The formula for the PDF of a random variable X is:\n",
    "\n",
    "f(x) = P(X = x)\n",
    "​\n",
    "\n",
    "where f(x) is the PDF, X is the random variable, and x is the value of the random variable.\n",
    "The PDF can be used to find the probability of a random variable taking on a given value. For example, if we want to find the probability\n",
    "of X being equal to x, we can simply evaluate the PDF at x:\n",
    "\n",
    "P(X = x) = f(x)\n",
    "​\n",
    "\n",
    "The PDF can also be used to find the cumulative distribution function (CDF) of a random variable. The CDF is a function that describes\n",
    "the probability of a random variable being less than or equal to a given value. The formula for the CDF of a random variable X is:\n",
    "\n",
    "F(x) = P(X <= x)\n",
    "​\n",
    "\n",
    "where F(x) is the CDF, X is the random variable, and x is the value of the random variable.\n",
    "The CDF can be used to find the probability of a random variable taking on a value less than or equal to a given value. For example,\n",
    "if we want to find the probability of X being less than or equal to x, we can simply evaluate the CDF at x:\n",
    "\n",
    "P(X <= x) = F(x)\n",
    "​\n",
    "\n",
    "The PDF and CDF are two important tools for working with random variables. They can be used to find the probability of a random variable\n",
    "taking on a given value or a range of values.\n",
    "Aug 03 1:11 AM"
   ]
  },
  {
   "cell_type": "code",
   "execution_count": null,
   "id": "42d2d701-ed17-4a3e-a140-2d69a5ceddce",
   "metadata": {},
   "outputs": [],
   "source": []
  },
  {
   "cell_type": "code",
   "execution_count": null,
   "id": "6cf07e00-7087-4d0f-a6f7-1a22c5f7596a",
   "metadata": {},
   "outputs": [],
   "source": [
    "Q2. What are the types of Probability distribution?"
   ]
  },
  {
   "cell_type": "code",
   "execution_count": null,
   "id": "a32f90ca-f208-4ff5-905c-9be54a5cf290",
   "metadata": {},
   "outputs": [],
   "source": [
    "There are many different types of probability distributions. Some of the most common types include:\n",
    "* The binomial distribution is used to model the number of successes in a sequence of independent experiments, each of which has a\n",
    "constant probability of success.\n",
    "* The Poisson distribution is used to model the number of events that occur in a fixed interval of time or space.\n",
    "* The normal distribution is a continuous probability distribution that is symmetric about the mean, bell-shaped, and has a finite variance.\n",
    "* The uniform distribution is a continuous probability distribution that is defined over a finite interval.\n",
    "* The exponential distribution is a continuous probability distribution that is used to model the time until the next event in a Poisson \n",
    "process.\n",
    "* The Weibull distribution is a continuous probability distribution that is used to model failure rates in reliability engineering.\n",
    "These are just a few of the many different types of probability distributions that are used in statistics.\n",
    "Aug 03 1:12 AM"
   ]
  },
  {
   "cell_type": "code",
   "execution_count": null,
   "id": "189abcab-0608-4d44-a709-a650e02ccb3c",
   "metadata": {},
   "outputs": [],
   "source": []
  },
  {
   "cell_type": "code",
   "execution_count": null,
   "id": "dc1e8d2b-45ff-408c-85d3-ce0d9f07b7c5",
   "metadata": {},
   "outputs": [],
   "source": [
    "Q3. Write a Python function to calculate the probability density function of a normal distribution with\n",
    "given mean and standard deviation at a given point."
   ]
  },
  {
   "cell_type": "code",
   "execution_count": 1,
   "id": "b87e2b39-a2ce-4c5e-9b5e-20ffa830101b",
   "metadata": {},
   "outputs": [],
   "source": [
    "def normal_pdf(x, mean, std):\n",
    "  \"\"\"\n",
    "  Calculates the probability density function of a normal distribution with given mean and standard deviation at a given point.\n",
    "  Args:\n",
    "    x: The point at which to calculate the probability density function.\n",
    "    mean: The mean of the normal distribution.\n",
    "    std: The standard deviation of the normal distribution.\n",
    "  Returns:\n",
    "    The probability density function of the normal distribution at the given point.\n",
    "  \"\"\"\n",
    "  # Calculate the exponent.\n",
    "  exponent = (x - mean) ** 2 / (2 * std ** 2)\n",
    "  # Calculate the probability density function.\n",
    "  pdf = (1 / (std * math.sqrt(2 * math.pi))) * math.exp(-exponent)\n",
    "  return pdf"
   ]
  },
  {
   "cell_type": "code",
   "execution_count": null,
   "id": "49a731cc-2680-43d5-ab57-02228ce118d8",
   "metadata": {},
   "outputs": [],
   "source": []
  },
  {
   "cell_type": "code",
   "execution_count": null,
   "id": "29ef944f-f6f8-4ed5-a724-89f9a1413b74",
   "metadata": {},
   "outputs": [],
   "source": [
    "Q4. What are the properties of Binomial distribution? Give two examples of events where binomial\n",
    "distribution can be applied."
   ]
  },
  {
   "cell_type": "code",
   "execution_count": null,
   "id": "402d3ad2-adc1-4801-9f64-7a7e41f04500",
   "metadata": {},
   "outputs": [],
   "source": [
    "The binomial distribution is a probability distribution that describes the number of successes in a sequence of independent experiments,\n",
    "each of which has a constant probability of success. The properties of the binomial distribution are:\n",
    "* The number of trials is fixed.\n",
    "* The probability of success is constant for each trial.\n",
    "* The trials are independent.\n",
    "* The number of successes is a discrete random variable.\n",
    "Two examples of events where the binomial distribution can be applied are:\n",
    "* Flipping a coin 10 times and counting the number of heads.\n",
    "* Rolling a die 20 times and counting the number of sixes.\n",
    "In both of these examples, the number of trials is fixed, the probability of success is constant, the trials are independent, \n",
    "and the number of successes is a discrete random variable."
   ]
  },
  {
   "cell_type": "code",
   "execution_count": null,
   "id": "a0f185f8-cc68-485c-b921-f81300482cf3",
   "metadata": {},
   "outputs": [],
   "source": []
  },
  {
   "cell_type": "code",
   "execution_count": null,
   "id": "d6a0ba08-adb7-4ad0-83b9-a675bacaf2b5",
   "metadata": {},
   "outputs": [],
   "source": [
    "Q5. Generate a random sample of size 1000 from a binomial distribution with probability of success 0.4\n",
    "and plot a histogram of the results using matplotlib."
   ]
  },
  {
   "cell_type": "code",
   "execution_count": null,
   "id": "d618a8f4-0e50-466d-aee7-f0d280900fb3",
   "metadata": {},
   "outputs": [],
   "source": [
    "import matplotlib.pyplot as plt\n",
    "from scipy.stats import binom\n",
    "# Generate a random sample of size 1000 from a binomial distribution with probability of success 0.4\n",
    "sample = binom.rvs(1000, 0.4)\n",
    "# Plot a histogram of the results\n",
    "plt.hist(sample)\n",
    "plt.show()"
   ]
  },
  {
   "cell_type": "code",
   "execution_count": null,
   "id": "ba947c0c-8855-41e3-8655-0839b95d7857",
   "metadata": {},
   "outputs": [],
   "source": []
  },
  {
   "cell_type": "code",
   "execution_count": null,
   "id": "755ec1f5-33c4-4d29-b396-186775e44dc8",
   "metadata": {},
   "outputs": [],
   "source": [
    "Q6. Write a Python function to calculate the cumulative distribution function of a Poisson distribution\n",
    "with given mean at a given point."
   ]
  },
  {
   "cell_type": "code",
   "execution_count": null,
   "id": "ad94fdd7-d1a9-417e-a88d-84fabd71a273",
   "metadata": {},
   "outputs": [],
   "source": [
    "def poisson_cdf(mean, point):\n",
    "  \"\"\"\n",
    "  Calculates the cumulative distribution function of a Poisson distribution with given mean at a given point.\n",
    "  Args:\n",
    "    mean: The mean of the Poisson distribution.\n",
    "    point: The point at which to calculate the cumulative distribution function.\n",
    "  Returns:\n",
    "    The cumulative distribution function of the Poisson distribution at the given point.\n",
    "  \"\"\"\n",
    "  # Calculate the exponent.\n",
    "  exponent = -(point * math.log(mean) + math.lgamma(point + 1))\n",
    "  # Calculate the cumulative distribution function.\n",
    "  cdf = math.exp(exponent)\n",
    "  return cdf"
   ]
  },
  {
   "cell_type": "code",
   "execution_count": null,
   "id": "e3731696-bdb0-4c6f-af6e-3015008a4f86",
   "metadata": {},
   "outputs": [],
   "source": []
  },
  {
   "cell_type": "code",
   "execution_count": null,
   "id": "afc23ed8-6996-4964-b87a-56d93b20ceb6",
   "metadata": {},
   "outputs": [],
   "source": [
    "Q7. How Binomial distribution different from Poisson distribution?"
   ]
  },
  {
   "cell_type": "code",
   "execution_count": null,
   "id": "1acea509-b36f-4640-8d23-0e5cdf339267",
   "metadata": {},
   "outputs": [],
   "source": [
    "The binomial distribution and the Poisson distribution are both discrete probability distributions that are used to model the number of \n",
    "successes in a sequence of independent experiments. However, there are some key differences between the two distributions.\n",
    "* The binomial distribution is used when the number of experiments is fixed, while the Poisson distribution is used when the number of \n",
    "experiments is not fixed.\n",
    "* The binomial distribution is used when the probability of success is constant for each experiment, while the Poisson distribution is\n",
    "used when the probability of success is not constant.\n",
    "* The binomial distribution is used when the experiments are independent, while the Poisson distribution is used when the experiments \n",
    "are not independent.\n"
   ]
  },
  {
   "cell_type": "code",
   "execution_count": null,
   "id": "2a7c5a52-6121-4732-bd2a-dd7f3bf08fb9",
   "metadata": {},
   "outputs": [],
   "source": []
  },
  {
   "cell_type": "code",
   "execution_count": null,
   "id": "e5266f35-f9cf-435c-8994-3715eea2241c",
   "metadata": {},
   "outputs": [],
   "source": [
    "Q8. Generate a random sample of size 1000 from a Poisson distribution with mean 5 and calculate the\n",
    "sample mean and variance."
   ]
  },
  {
   "cell_type": "code",
   "execution_count": null,
   "id": "23354246-973f-4620-9942-3ef03220232b",
   "metadata": {},
   "outputs": [],
   "source": [
    "import numpy as np\n",
    "from scipy.stats import poisson\n",
    "# Generate a random sample of size 1000 from a Poisson distribution with mean 5\n",
    "sample = poisson.rvs(5, size=1000)\n",
    "# Calculate the sample mean and variance\n",
    "mean = np.mean(sample)\n",
    "variance = np.var(sample)\n",
    "print(mean)\n",
    "print(variance)"
   ]
  },
  {
   "cell_type": "code",
   "execution_count": null,
   "id": "6701add8-dc3c-4b56-8035-b5dd4b00e9c4",
   "metadata": {},
   "outputs": [],
   "source": []
  },
  {
   "cell_type": "code",
   "execution_count": null,
   "id": "6703c400-0edb-41c2-9b26-41f648f70c96",
   "metadata": {},
   "outputs": [],
   "source": [
    "Q9. How mean and variance are related in Binomial distribution and Poisson distribution?"
   ]
  },
  {
   "cell_type": "code",
   "execution_count": null,
   "id": "329bd04f-d7f4-4ba2-8c11-c0f71e5b9381",
   "metadata": {},
   "outputs": [],
   "source": [
    "The mean and variance are related in both the binomial distribution and the Poisson distribution. In the binomial distribution, \n",
    "the mean is equal to the number of trials multiplied by the probability of success. The variance is equal to the number of trials\n",
    "multiplied by the probability of success multiplied by the probability of failure. In the Poisson distribution, the mean is equal to\n",
    "the rate parameter. The variance is also equal to the rate parameter."
   ]
  },
  {
   "cell_type": "code",
   "execution_count": null,
   "id": "1f534a09-efc5-4846-9a9f-e02e56303b4e",
   "metadata": {},
   "outputs": [],
   "source": []
  },
  {
   "cell_type": "code",
   "execution_count": null,
   "id": "ec1787bf-15d2-4211-aa7a-8fcec29c61c2",
   "metadata": {},
   "outputs": [],
   "source": [
    "Q10. In normal distribution with respect to mean position, where does the least frequent data appear?"
   ]
  },
  {
   "cell_type": "code",
   "execution_count": null,
   "id": "24118eaa-b673-4da5-bd5f-e7dfaadf3ca7",
   "metadata": {},
   "outputs": [],
   "source": [
    "The least frequent data in a normal distribution appears at the tails of the distribution. The mean is the center of the distribution, \n",
    "and the data is most likely to be found near the mean. The tails of the distribution are the areas where the data is least likely to\n",
    "be found."
   ]
  }
 ],
 "metadata": {
  "kernelspec": {
   "display_name": "Python 3 (ipykernel)",
   "language": "python",
   "name": "python3"
  },
  "language_info": {
   "codemirror_mode": {
    "name": "ipython",
    "version": 3
   },
   "file_extension": ".py",
   "mimetype": "text/x-python",
   "name": "python",
   "nbconvert_exporter": "python",
   "pygments_lexer": "ipython3",
   "version": "3.10.8"
  }
 },
 "nbformat": 4,
 "nbformat_minor": 5
}
